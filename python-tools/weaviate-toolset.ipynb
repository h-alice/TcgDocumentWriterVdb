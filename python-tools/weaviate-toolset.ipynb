{
 "cells": [
  {
   "cell_type": "code",
   "execution_count": null,
   "id": "4da4e0cd",
   "metadata": {},
   "outputs": [],
   "source": [
    "import os\n",
    "import pickle\n",
    "import random\n",
    "from collections import namedtuple\n",
    "\n",
    "import requests\n",
    "import weaviate\n",
    "from weaviate import classes as wvc\n",
    "from weaviate.classes.query import MetadataQuery\n",
    "from weaviate.classes.config import Property, DataType, ReferenceProperty"
   ]
  },
  {
   "cell_type": "markdown",
   "id": "3a062c5d",
   "metadata": {},
   "source": [
    "## Data Structure"
   ]
  },
  {
   "cell_type": "code",
   "execution_count": null,
   "id": "383f3ded",
   "metadata": {},
   "outputs": [],
   "source": [
    "Document = namedtuple(\"Document\", [\"summary\", \"document\"])"
   ]
  },
  {
   "cell_type": "markdown",
   "id": "c4cd6b27",
   "metadata": {},
   "source": [
    "## Constants"
   ]
  },
  {
   "cell_type": "code",
   "execution_count": null,
   "id": "2396e1c3",
   "metadata": {},
   "outputs": [],
   "source": [
    "EMBEDDING_UPPER_LIMIT = 512 - 15 # 20 tokens for special tokens (guessed)\n",
    "METADATA_SIZE = 5 # For metadata.\n",
    "EMBEDDING_ENDPOINT = \"http://embedding:8080\" # Endpoint for embedding service"
   ]
  },
  {
   "cell_type": "code",
   "execution_count": null,
   "id": "e8323170",
   "metadata": {},
   "outputs": [],
   "source": [
    "# Connect to Weaviate instance\n",
    "client = weaviate.connect_to_local()"
   ]
  },
  {
   "cell_type": "markdown",
   "id": "e93f310f",
   "metadata": {},
   "source": [
    "## Helper Functions"
   ]
  },
  {
   "cell_type": "code",
   "execution_count": null,
   "id": "23b869e6",
   "metadata": {
    "notebookRunGroups": {
     "groupValue": "2"
    }
   },
   "outputs": [],
   "source": [
    "def slicer(document: str, chunk_length: int, overlap: int) -> list[str]:\n",
    "    \"\"\"\n",
    "    Slices a document into overlapping chunks.\n",
    "\n",
    "    Args:\n",
    "        document: The input string to be sliced.\n",
    "        chunk_length: The desired length of each chunk.\n",
    "        overlap: The number of characters to overlap between consecutive chunks.\n",
    "\n",
    "    Returns:\n",
    "        A list of strings, where each string is a chunk of the original document.\n",
    "    \"\"\"\n",
    "    if not isinstance(document, str):\n",
    "        raise TypeError(\"Input 'document' must be a string.\")\n",
    "    if not isinstance(chunk_length, int) or chunk_length <= 0:\n",
    "        raise ValueError(\"'chunk_length' must be a positive integer.\")\n",
    "    if not isinstance(overlap, int) or overlap < 0:\n",
    "        raise ValueError(\"'overlap' must be a non-negative integer.\")\n",
    "    if overlap >= chunk_length:\n",
    "        raise ValueError(\"'overlap' cannot be greater than or equal to 'chunk_length'.\")\n",
    "\n",
    "    chunks = []\n",
    "    start_index = 0\n",
    "    doc_len = len(document)\n",
    "\n",
    "    while start_index < doc_len:\n",
    "        end_index = start_index + chunk_length\n",
    "        chunk = document[start_index:end_index]\n",
    "        chunks.append(chunk)\n",
    "\n",
    "        # Move the start index for the next chunk\n",
    "        # If the next chunk would exceed the document length, we stop\n",
    "        if start_index + chunk_length - overlap >= doc_len and start_index + chunk_length >= doc_len :\n",
    "            break\n",
    "        start_index += (chunk_length - overlap)\n",
    "        # Ensure the last chunk doesn't go beyond the document length\n",
    "        # if start_index + chunk_length > doc_len and start_index < doc_len :\n",
    "        #   chunks.append(document[start_index:])\n",
    "        #   break\n",
    "\n",
    "    return chunks"
   ]
  },
  {
   "cell_type": "markdown",
   "id": "79e3c7e5",
   "metadata": {},
   "source": [
    "## Getting Document Data\n",
    "\n",
    "This is just an example, you should implement your own logic to prepare the data.\n",
    "\n",
    "The system requires a document paired with summary to provide a document matching process."
   ]
  },
  {
   "cell_type": "code",
   "execution_count": null,
   "id": "b8f48425",
   "metadata": {},
   "outputs": [],
   "source": [
    "# prepare data\n",
    "doc_collection = list[Document]\n",
    "\n",
    "with open(\"./all-doc-with-tr.pkl\", \"rb\") as f:\n",
    "    data = pickle.load(f)\n",
    "\n",
    "doc_collection = [] # Initialize an empty list to store documents\n",
    "for idex, (doc_orig, _, doc_summarized) in enumerate(data):\n",
    "    # Create a document\n",
    "    doc = Document(  \n",
    "        summary=doc_summarized,\n",
    "        document=doc_orig,\n",
    "    )\n",
    "    # Add the document to the collection\n",
    "    doc_collection.append(doc)"
   ]
  },
  {
   "cell_type": "code",
   "execution_count": null,
   "id": "4e83e93e",
   "metadata": {},
   "outputs": [],
   "source": [
    "# Shuffle and take partial collection\n",
    "random.shuffle(doc_collection)\n",
    "doc_db = doc_collection[:15000]"
   ]
  },
  {
   "cell_type": "markdown",
   "id": "32ff6f28",
   "metadata": {},
   "source": [
    "## Querying Documents"
   ]
  },
  {
   "cell_type": "code",
   "execution_count": null,
   "id": "bcf5cc99",
   "metadata": {},
   "outputs": [],
   "source": [
    "user_query = \"舉辦推廣Haskell語言活動\"\n",
    "\n",
    "document_collection = client.collections.get(\"Chunk\")   \n",
    "\n",
    "vd_query_response = document_collection.query.hybrid(\n",
    "    query=user_query,\n",
    "    query_properties=[\"summary\", \"content\"],\n",
    "    alpha=0.5,\n",
    "    limit=100,\n",
    "    return_metadata=MetadataQuery(score=True, explain_score=True),\n",
    ")\n",
    "\n",
    "response_contents = []\n",
    "for obj in vd_query_response.objects:\n",
    "    response_contents.append(obj.properties[\"content\"])\n",
    "\n",
    "print(response_contents)"
   ]
  },
  {
   "cell_type": "markdown",
   "id": "614aad4f",
   "metadata": {},
   "source": [
    "### GraphQL Query"
   ]
  },
  {
   "cell_type": "code",
   "execution_count": null,
   "id": "aecb35f5",
   "metadata": {},
   "outputs": [],
   "source": [
    "# Define the GraphQL payload, with a placeholder for the user query\n",
    "graphql_payload = \"\"\"\n",
    "{\n",
    "  Get {\n",
    "    Chunk( # Replace 'Document' if your collection name is different\n",
    "      hybrid: {\n",
    "        query: \"%s\",     # Your user query\n",
    "        alpha: 0.5,                  # Balance between vector/keyword search\n",
    "        properties: [\"summary\", \"content\"] # Properties for keyword (BM25) search\n",
    "      },\n",
    "      limit: 2 # Limit the number of results FROM Weaviate\n",
    "    ) {\n",
    "      # --- Specify properties you need for reranking or display ---\n",
    "      content   # You specifically extracted this for the reranker\n",
    "      summary   # You searched this property, might be useful context\n",
    "\n",
    "      # --- Add any other properties from your 'Document' schema ---\n",
    "      # Example: other_property\n",
    "\n",
    "      # --- Request metadata ---\n",
    "      _additional {\n",
    "        score        # The hybrid search score\n",
    "        explainScore # Breakdown of keyword/vector contribution\n",
    "        id           # Useful for unique identification\n",
    "      }\n",
    "      orig {\n",
    "        ... on Document {\n",
    "          content\n",
    "        }\n",
    "      }\n",
    "    }\n",
    "  }\n",
    "}\n",
    "\"\"\""
   ]
  },
  {
   "cell_type": "code",
   "execution_count": null,
   "id": "e7dc39a2",
   "metadata": {},
   "outputs": [],
   "source": [
    "user_query = \"生涯規劃離職\"\n",
    "\n",
    "response = requests.post(\n",
    "    url=\"http://localhost:8080/v1/graphql\",\n",
    "    headers={\"Content-Type\": \"application/json\"},\n",
    "    json={\n",
    "        \"query\": graphql_payload % user_query,\n",
    "        \"variables\": None,\n",
    "        \"operationName\": None\n",
    "    }\n",
    ")\n",
    "\n",
    "print(response.json())"
   ]
  },
  {
   "cell_type": "markdown",
   "id": "e9de7194",
   "metadata": {},
   "source": [
    "## Define Document Collection\n",
    "\n",
    "**WARNING**: This procedure will drop the existing collection and create a new one. All data will be lost. Do **NOT** run this if you just want to insert new data."
   ]
  },
  {
   "cell_type": "code",
   "execution_count": null,
   "id": "96e49184",
   "metadata": {},
   "outputs": [],
   "source": [
    "# We use two-way references to link the original documents to their chunks.\n",
    "\n",
    "# Collection for the original documents\n",
    "# Remove existing class if it exists\n",
    "client.collections.delete(\"Document\")\n",
    "\n",
    "# Make a collection for the document class.\n",
    "documents = client.collections.create(\n",
    "    name=\"Document\",\n",
    "    properties=[\n",
    "        Property(name=\"content\", data_type=DataType.TEXT),\n",
    "    ],\n",
    "    vectorizer_config=wvc.config.Configure.Vectorizer.none(),\n",
    ")\n",
    "\n",
    "# Collection for the chunks\n",
    "# Remove existing class if it exists\n",
    "client.collections.delete(\"Chunk\")\n",
    "\n",
    "# Make a collection for the chunk (sliced document) class.\n",
    "documents = client.collections.create(\n",
    "    name=\"Chunk\",\n",
    "    properties=[\n",
    "        Property(name=\"summary\", data_type=DataType.TEXT),\n",
    "        Property(name=\"content\", data_type=DataType.TEXT),\n",
    "    ],\n",
    "    vectorizer_config=wvc.config.Configure.Vectorizer.text2vec_openai(\n",
    "        base_url=EMBEDDING_ENDPOINT,  # The URL of the embedding service\n",
    "    ),\n",
    "    references=[\n",
    "        ReferenceProperty(\n",
    "            name=\"orig\",\n",
    "            target_collection=\"Document\",\n",
    "        ),\n",
    "    ],\n",
    ")"
   ]
  },
  {
   "cell_type": "markdown",
   "id": "a5c9b25e",
   "metadata": {},
   "source": [
    "### Add Data to Collection"
   ]
  },
  {
   "cell_type": "code",
   "execution_count": null,
   "id": "f108692d",
   "metadata": {},
   "outputs": [],
   "source": [
    "# Add the test data to the collection\n",
    "document_collection = client.collections.get(\"Document\")\n",
    "chunk_collection = client.collections.get(\"Chunk\")\n",
    "\n",
    "\n",
    "for i, doc in enumerate(doc_db):\n",
    "    chunkSize = EMBEDDING_UPPER_LIMIT - METADATA_SIZE - len(doc.summary)\n",
    "    overlap = 150 # You can try different overlaps.\n",
    "\n",
    "    if chunkSize <= overlap:\n",
    "        print(f\"Chunk size must be greater than overlap {overlap}. Possibly too long summary or too large overlap.\")\n",
    "        continue\n",
    "    \n",
    "    # Slice the document into chunks\n",
    "    chunks = slicer(doc.document, chunk_length=chunkSize, overlap=overlap) # You can try different overlaps.\n",
    "    \n",
    "    # 1. Insert original document\n",
    "    doc_id = document_collection.data.insert(\n",
    "        properties={\n",
    "            \"content\": doc.document, # Original document\n",
    "        },\n",
    "    )\n",
    "    print(f\"Document #{i}: Original document inserted.\")\n",
    "\n",
    "    # 2. Insert chunks\n",
    "    for j, chunk in enumerate(chunks):\n",
    "        chunk_collection.data.insert(\n",
    "            properties={\n",
    "                \"summary\": doc.summary,\n",
    "                \"content\": chunk,\n",
    "            },\n",
    "            references={\"orig\": doc_id} # UUID reference to the original document\n",
    "        )\n",
    "        print(f\"Document #{i}: Chunk #{j} inserted.\")\n",
    "\n",
    "    print(f\"Document #{i}: Done.\")\n"
   ]
  },
  {
   "cell_type": "code",
   "execution_count": null,
   "id": "dc9be536",
   "metadata": {},
   "outputs": [],
   "source": []
  }
 ],
 "metadata": {
  "kernelspec": {
   "display_name": ".venv",
   "language": "python",
   "name": "python3"
  },
  "language_info": {
   "codemirror_mode": {
    "name": "ipython",
    "version": 3
   },
   "file_extension": ".py",
   "mimetype": "text/x-python",
   "name": "python",
   "nbconvert_exporter": "python",
   "pygments_lexer": "ipython3",
   "version": "3.12.9"
  }
 },
 "nbformat": 4,
 "nbformat_minor": 5
}
